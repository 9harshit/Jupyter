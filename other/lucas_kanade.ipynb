{
 "cells": [
  {
   "cell_type": "code",
   "execution_count": 1,
   "metadata": {},
   "outputs": [
    {
     "data": {
      "text/plain": [
       "'\\nDense Optical Flow using Lucas Kanade Method\\nhttps://en.wikipedia.org/wiki/Lucas%E2%80%93Kanade_method\\n'"
      ]
     },
     "execution_count": 1,
     "metadata": {},
     "output_type": "execute_result"
    }
   ],
   "source": [
    "#Importing Packages\n",
    "import cv2\n",
    "import numpy as np\n",
    "\n",
    "\"\"\"\n",
    "Dense Optical Flow using Lucas Kanade Method\n",
    "https://en.wikipedia.org/wiki/Lucas%E2%80%93Kanade_method\n",
    "\"\"\""
   ]
  },
  {
   "cell_type": "code",
   "execution_count": 2,
   "metadata": {},
   "outputs": [],
   "source": [
    "cap = cv2.VideoCapture(0)\n",
    "\n",
    "#Lucas Kanade Parameters\n",
    "lk_params = dict(\n",
    "    winSize=(30, 30),\n",
    "    maxLevel=4,\n",
    "    criteria=(cv2.TERM_CRITERIA_EPS | cv2.TERM_CRITERIA_COUNT, 10, 0.03),\n",
    ")"
   ]
  },
  {
   "cell_type": "code",
   "execution_count": 3,
   "metadata": {},
   "outputs": [],
   "source": [
    "#Define Lucas Kanade Algorithm\n",
    "class LucasKanade:\n",
    "    @staticmethod\n",
    "    def execute():\n",
    "\n",
    "        \"\"\"\n",
    "        Detects motion in between frames of a video and draws a line between the two\n",
    "        coordinate points of different frames.\n",
    "\n",
    "        frame1 and frame2 are the two images taken at time i=1 and i=2 respectively.\n",
    "        x and y are the point coordinates of the two frames. It tracks the features\n",
    "        of the first frame(x) and the second frame(y) and draws a line between them\n",
    "        for every two consecutive frames.\n",
    "        \"\"\"\n",
    "\n",
    "        # get first frame of video\n",
    "        ret, frame1 = cap.read()\n",
    "        if ret:\n",
    "            # convert frame to grayscale\n",
    "            frame1_gray = cv2.cvtColor(frame1, cv2.COLOR_BGR2GRAY)\n",
    "            x = cv2.goodFeaturesToTrack(frame1_gray, 200, 0.01, 10, None, None, 7)\n",
    "            lin = np.zeros_like(frame1)\n",
    "            i = 0\n",
    "\n",
    "            while True:\n",
    "                i = i + 1\n",
    "                val, frame2 = cap.read()\n",
    "                if not val:\n",
    "                    break\n",
    "                frame2 = cv2.medianBlur(frame2, 5)\n",
    "                frame2_gray = cv2.cvtColor(frame2, cv2.COLOR_BGR2GRAY)\n",
    "                y, st, error = cv2.calcOpticalFlowPyrLK(\n",
    "                    frame1_gray, frame2_gray, x, None, **lk_params\n",
    "                )\n",
    "\n",
    "                for j, (new, old) in enumerate(zip(y, x)):\n",
    "                    a, b = new.ravel()\n",
    "                    c, d = old.ravel()\n",
    "                    frame2 = cv2.circle(frame2, (a, b), 5, (0, 0, 255), -1)\n",
    "                    frame2 = cv2.circle(frame2, (c, d), 5, (255, 0, 0), -1)\n",
    "                    lin = cv2.line(lin, (a, b), (c, d), (0, 255, 0), 2)\n",
    "\n",
    "                if i == 2:\n",
    "                    # Draw line for every 2 frames\n",
    "                    lin = np.zeros_like(frame1)\n",
    "                    i = 0\n",
    "                img = cv2.add(frame2, lin)\n",
    "                img = cv2.flip(img, 1)\n",
    "                if img is not None:\n",
    "                    cv2.imshow(\"Video\", img)\n",
    "                    key = cv2.waitKey(1)\n",
    "                    if key & 0xFF == ord(\"q\"):\n",
    "                        break\n",
    "\n",
    "                # update the new values\n",
    "                frame1_gray = np.copy(frame2_gray)\n",
    "                x = cv2.goodFeaturesToTrack(frame1_gray, 200, 0.01, 10, None, None, 10)"
   ]
  },
  {
   "cell_type": "code",
   "execution_count": 4,
   "metadata": {
    "scrolled": true
   },
   "outputs": [],
   "source": [
    "#Define class object\n",
    "run = LucasKanade()\n",
    "run.execute()\n",
    "cap.release()\n",
    "cv2.destroyAllWindows()"
   ]
  },
  {
   "cell_type": "code",
   "execution_count": null,
   "metadata": {},
   "outputs": [],
   "source": []
  }
 ],
 "metadata": {
  "kernelspec": {
   "display_name": "Python 3",
   "language": "python",
   "name": "python3"
  },
  "language_info": {
   "codemirror_mode": {
    "name": "ipython",
    "version": 3
   },
   "file_extension": ".py",
   "mimetype": "text/x-python",
   "name": "python",
   "nbconvert_exporter": "python",
   "pygments_lexer": "ipython3",
   "version": "3.7.6"
  }
 },
 "nbformat": 4,
 "nbformat_minor": 4
}
